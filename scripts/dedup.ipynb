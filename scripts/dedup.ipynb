{
 "cells": [
  {
   "cell_type": "code",
   "execution_count": 1,
   "id": "initial_id",
   "metadata": {
    "collapsed": true,
    "ExecuteTime": {
     "end_time": "2023-08-09T19:06:18.985498818Z",
     "start_time": "2023-08-09T19:06:11.514461138Z"
    }
   },
   "outputs": [
    {
     "name": "stdout",
     "output_type": "stream",
     "text": [
      "Searching for campaigns in /home/katie/Downloads/slurm-1094600.\n",
      "\tFound 70 campaigns.\n",
      "Checking campaigns.\n",
      "\t70 campaigns were valid.\n"
     ]
    },
    {
     "data": {
      "text/plain": "                         type  \\\n0  java.lang.RuntimeException   \n1  java.lang.RuntimeException   \n2  java.lang.RuntimeException   \n3  java.lang.RuntimeException   \n4  java.lang.RuntimeException   \n\n                                               trace         detection_time  \\\n0  (com.sun.org.apache.xml.internal.serializer.Se... 0 days 00:00:03.960000   \n1  (com.sun.org.apache.xml.internal.serializer.Se... 0 days 00:00:00.880000   \n2  (com.sun.org.apache.xml.internal.serializer.Se... 0 days 00:00:01.648000   \n3  (com.sun.org.apache.xml.internal.serializer.Se... 0 days 00:00:01.116000   \n4  (com.sun.org.apache.xml.internal.serializer.Se... 0 days 00:00:02.836000   \n\n                                     inducing_inputs subject campaign_id  \\\n0  [/scratch/experiment/target/meringue/campaign/...     Ant          14   \n1  [/scratch/experiment/target/meringue/campaign/...     Ant          35   \n2  [/scratch/experiment/target/meringue/campaign/...     Ant          28   \n3  [/scratch/experiment/target/meringue/campaign/...     Ant          63   \n4  [/scratch/experiment/target/meringue/campaign/...     Ant          21   \n\n        fuzzer associatedDefects note  \n0  Zeugma-Hint               NaN  NaN  \n1  Zeugma-Hint               NaN  NaN  \n2  Zeugma-Hint               NaN  NaN  \n3  Zeugma-Hint               NaN  NaN  \n4  Zeugma-Hint               NaN  NaN  ",
      "text/html": "<div>\n<style scoped>\n    .dataframe tbody tr th:only-of-type {\n        vertical-align: middle;\n    }\n\n    .dataframe tbody tr th {\n        vertical-align: top;\n    }\n\n    .dataframe thead th {\n        text-align: right;\n    }\n</style>\n<table border=\"1\" class=\"dataframe\">\n  <thead>\n    <tr style=\"text-align: right;\">\n      <th></th>\n      <th>type</th>\n      <th>trace</th>\n      <th>detection_time</th>\n      <th>inducing_inputs</th>\n      <th>subject</th>\n      <th>campaign_id</th>\n      <th>fuzzer</th>\n      <th>associatedDefects</th>\n      <th>note</th>\n    </tr>\n  </thead>\n  <tbody>\n    <tr>\n      <th>0</th>\n      <td>java.lang.RuntimeException</td>\n      <td>(com.sun.org.apache.xml.internal.serializer.Se...</td>\n      <td>0 days 00:00:03.960000</td>\n      <td>[/scratch/experiment/target/meringue/campaign/...</td>\n      <td>Ant</td>\n      <td>14</td>\n      <td>Zeugma-Hint</td>\n      <td>NaN</td>\n      <td>NaN</td>\n    </tr>\n    <tr>\n      <th>1</th>\n      <td>java.lang.RuntimeException</td>\n      <td>(com.sun.org.apache.xml.internal.serializer.Se...</td>\n      <td>0 days 00:00:00.880000</td>\n      <td>[/scratch/experiment/target/meringue/campaign/...</td>\n      <td>Ant</td>\n      <td>35</td>\n      <td>Zeugma-Hint</td>\n      <td>NaN</td>\n      <td>NaN</td>\n    </tr>\n    <tr>\n      <th>2</th>\n      <td>java.lang.RuntimeException</td>\n      <td>(com.sun.org.apache.xml.internal.serializer.Se...</td>\n      <td>0 days 00:00:01.648000</td>\n      <td>[/scratch/experiment/target/meringue/campaign/...</td>\n      <td>Ant</td>\n      <td>28</td>\n      <td>Zeugma-Hint</td>\n      <td>NaN</td>\n      <td>NaN</td>\n    </tr>\n    <tr>\n      <th>3</th>\n      <td>java.lang.RuntimeException</td>\n      <td>(com.sun.org.apache.xml.internal.serializer.Se...</td>\n      <td>0 days 00:00:01.116000</td>\n      <td>[/scratch/experiment/target/meringue/campaign/...</td>\n      <td>Ant</td>\n      <td>63</td>\n      <td>Zeugma-Hint</td>\n      <td>NaN</td>\n      <td>NaN</td>\n    </tr>\n    <tr>\n      <th>4</th>\n      <td>java.lang.RuntimeException</td>\n      <td>(com.sun.org.apache.xml.internal.serializer.Se...</td>\n      <td>0 days 00:00:02.836000</td>\n      <td>[/scratch/experiment/target/meringue/campaign/...</td>\n      <td>Ant</td>\n      <td>21</td>\n      <td>Zeugma-Hint</td>\n      <td>NaN</td>\n      <td>NaN</td>\n    </tr>\n  </tbody>\n</table>\n</div>"
     },
     "execution_count": 1,
     "metadata": {},
     "output_type": "execute_result"
    }
   ],
   "source": [
    "import extract\n",
    "\n",
    "input_dir = input('Input directory:')\n",
    "campaigns = extract.read_campaigns(input_dir)\n",
    "failures = extract.create_failures_table(campaigns)\n",
    "failures.head()"
   ]
  },
  {
   "cell_type": "code",
   "execution_count": 11,
   "outputs": [
    {
     "data": {
      "text/plain": "                                          type  \\\n0           java.lang.IllegalArgumentException   \n1           java.lang.IllegalArgumentException   \n2              java.lang.IllegalStateException   \n3              java.lang.IllegalStateException   \n4              java.lang.IllegalStateException   \n..                                         ...   \n105  org.apache.bcel.generic.ClassGenException   \n106  org.apache.bcel.generic.ClassGenException   \n107  org.apache.bcel.generic.ClassGenException   \n108                   org.w3c.dom.DOMException   \n109                   org.w3c.dom.DOMException   \n\n                                                 trace  subject campaign_id  \\\n0    (com.google.javascript.jscomp.SourceFile.<init...  Closure          44   \n1    (com.google.javascript.jscomp.jarjar.com.googl...  Closure           9   \n2    (com.google.javascript.jscomp.AstValidator$1.h...  Closure           2   \n3    (com.google.javascript.jscomp.AstValidator$1.h...  Closure          65   \n4    (com.google.javascript.jscomp.AstValidator$1.h...  Closure          44   \n..                                                 ...      ...         ...   \n105  (org.apache.bcel.generic.ArrayType.<init>(Arra...     Bcel          36   \n106  (org.apache.bcel.generic.FieldOrMethod.getLoad...     Bcel          22   \n107  (org.apache.bcel.generic.FieldOrMethod.getLoad...     Bcel          64   \n108  (com.sun.org.apache.xerces.internal.dom.CoreDo...      Ant          14   \n109  (com.sun.org.apache.xerces.internal.dom.CoreDo...      Ant          14   \n\n          fuzzer                   input  \n0    Zeugma-Hint    corpus/id_000465.dat  \n1    Zeugma-Hint    corpus/id_001378.dat  \n2    Zeugma-Hint    corpus/id_001502.dat  \n3    Zeugma-Hint  failures/id_000034.dat  \n4    Zeugma-Hint  failures/id_000029.dat  \n..           ...                     ...  \n105  Zeugma-Hint    corpus/id_000363.dat  \n106  Zeugma-Hint    corpus/id_000454.dat  \n107  Zeugma-Hint    corpus/id_000337.dat  \n108  Zeugma-Hint    corpus/id_000198.dat  \n109  Zeugma-Hint  failures/id_000003.dat  \n\n[110 rows x 6 columns]",
      "text/html": "<div>\n<style scoped>\n    .dataframe tbody tr th:only-of-type {\n        vertical-align: middle;\n    }\n\n    .dataframe tbody tr th {\n        vertical-align: top;\n    }\n\n    .dataframe thead th {\n        text-align: right;\n    }\n</style>\n<table border=\"1\" class=\"dataframe\">\n  <thead>\n    <tr style=\"text-align: right;\">\n      <th></th>\n      <th>type</th>\n      <th>trace</th>\n      <th>subject</th>\n      <th>campaign_id</th>\n      <th>fuzzer</th>\n      <th>input</th>\n    </tr>\n  </thead>\n  <tbody>\n    <tr>\n      <th>0</th>\n      <td>java.lang.IllegalArgumentException</td>\n      <td>(com.google.javascript.jscomp.SourceFile.&lt;init...</td>\n      <td>Closure</td>\n      <td>44</td>\n      <td>Zeugma-Hint</td>\n      <td>corpus/id_000465.dat</td>\n    </tr>\n    <tr>\n      <th>1</th>\n      <td>java.lang.IllegalArgumentException</td>\n      <td>(com.google.javascript.jscomp.jarjar.com.googl...</td>\n      <td>Closure</td>\n      <td>9</td>\n      <td>Zeugma-Hint</td>\n      <td>corpus/id_001378.dat</td>\n    </tr>\n    <tr>\n      <th>2</th>\n      <td>java.lang.IllegalStateException</td>\n      <td>(com.google.javascript.jscomp.AstValidator$1.h...</td>\n      <td>Closure</td>\n      <td>2</td>\n      <td>Zeugma-Hint</td>\n      <td>corpus/id_001502.dat</td>\n    </tr>\n    <tr>\n      <th>3</th>\n      <td>java.lang.IllegalStateException</td>\n      <td>(com.google.javascript.jscomp.AstValidator$1.h...</td>\n      <td>Closure</td>\n      <td>65</td>\n      <td>Zeugma-Hint</td>\n      <td>failures/id_000034.dat</td>\n    </tr>\n    <tr>\n      <th>4</th>\n      <td>java.lang.IllegalStateException</td>\n      <td>(com.google.javascript.jscomp.AstValidator$1.h...</td>\n      <td>Closure</td>\n      <td>44</td>\n      <td>Zeugma-Hint</td>\n      <td>failures/id_000029.dat</td>\n    </tr>\n    <tr>\n      <th>...</th>\n      <td>...</td>\n      <td>...</td>\n      <td>...</td>\n      <td>...</td>\n      <td>...</td>\n      <td>...</td>\n    </tr>\n    <tr>\n      <th>105</th>\n      <td>org.apache.bcel.generic.ClassGenException</td>\n      <td>(org.apache.bcel.generic.ArrayType.&lt;init&gt;(Arra...</td>\n      <td>Bcel</td>\n      <td>36</td>\n      <td>Zeugma-Hint</td>\n      <td>corpus/id_000363.dat</td>\n    </tr>\n    <tr>\n      <th>106</th>\n      <td>org.apache.bcel.generic.ClassGenException</td>\n      <td>(org.apache.bcel.generic.FieldOrMethod.getLoad...</td>\n      <td>Bcel</td>\n      <td>22</td>\n      <td>Zeugma-Hint</td>\n      <td>corpus/id_000454.dat</td>\n    </tr>\n    <tr>\n      <th>107</th>\n      <td>org.apache.bcel.generic.ClassGenException</td>\n      <td>(org.apache.bcel.generic.FieldOrMethod.getLoad...</td>\n      <td>Bcel</td>\n      <td>64</td>\n      <td>Zeugma-Hint</td>\n      <td>corpus/id_000337.dat</td>\n    </tr>\n    <tr>\n      <th>108</th>\n      <td>org.w3c.dom.DOMException</td>\n      <td>(com.sun.org.apache.xerces.internal.dom.CoreDo...</td>\n      <td>Ant</td>\n      <td>14</td>\n      <td>Zeugma-Hint</td>\n      <td>corpus/id_000198.dat</td>\n    </tr>\n    <tr>\n      <th>109</th>\n      <td>org.w3c.dom.DOMException</td>\n      <td>(com.sun.org.apache.xerces.internal.dom.CoreDo...</td>\n      <td>Ant</td>\n      <td>14</td>\n      <td>Zeugma-Hint</td>\n      <td>failures/id_000003.dat</td>\n    </tr>\n  </tbody>\n</table>\n<p>110 rows × 6 columns</p>\n</div>"
     },
     "execution_count": 11,
     "metadata": {},
     "output_type": "execute_result"
    }
   ],
   "source": [
    "def select_input(inducing_inputs):\n",
    "    selected = inducing_inputs[0]\n",
    "    return '/'.join(selected.split('/')[-2:])\n",
    "unmatched = failures[~failures['associatedDefects'].notna()]\n",
    "unique_unmatched = unmatched.groupby(['type', 'trace', 'subject']).first().reset_index()\n",
    "unique_unmatched['input'] = unique_unmatched['inducing_inputs'].apply(select_input)\n",
    "unique_unmatched.drop(columns=['associatedDefects', 'note', 'inducing_inputs', 'detection_time'])"
   ],
   "metadata": {
    "collapsed": false,
    "ExecuteTime": {
     "end_time": "2023-08-09T17:51:54.974852654Z",
     "start_time": "2023-08-09T17:51:54.937456750Z"
    }
   },
   "id": "fac93ee4540c7ade"
  }
 ],
 "metadata": {
  "kernelspec": {
   "display_name": "Python 3",
   "language": "python",
   "name": "python3"
  },
  "language_info": {
   "codemirror_mode": {
    "name": "ipython",
    "version": 2
   },
   "file_extension": ".py",
   "mimetype": "text/x-python",
   "name": "python",
   "nbconvert_exporter": "python",
   "pygments_lexer": "ipython2",
   "version": "2.7.6"
  }
 },
 "nbformat": 4,
 "nbformat_minor": 5
}
